{
 "cells": [
  {
   "cell_type": "code",
   "execution_count": 19,
   "id": "b8ae901b",
   "metadata": {},
   "outputs": [],
   "source": [
    "import pandas as pd\n",
    "import matplotlib.pyplot as plt\n",
    "import seaborn as sns\n",
    "import matplotlib.font_manager as fm\n",
    "import numpy as np\n",
    "import random as rd"
   ]
  },
  {
   "cell_type": "code",
   "execution_count": 21,
   "id": "cda04a5a",
   "metadata": {},
   "outputs": [
    {
     "data": {
      "text/html": [
       "<div>\n",
       "<style scoped>\n",
       "    .dataframe tbody tr th:only-of-type {\n",
       "        vertical-align: middle;\n",
       "    }\n",
       "\n",
       "    .dataframe tbody tr th {\n",
       "        vertical-align: top;\n",
       "    }\n",
       "\n",
       "    .dataframe thead th {\n",
       "        text-align: right;\n",
       "    }\n",
       "</style>\n",
       "<table border=\"1\" class=\"dataframe\">\n",
       "  <thead>\n",
       "    <tr style=\"text-align: right;\">\n",
       "      <th></th>\n",
       "      <th>공원명</th>\n",
       "      <th>육지면적</th>\n",
       "      <th>탐방객수</th>\n",
       "    </tr>\n",
       "  </thead>\n",
       "  <tbody>\n",
       "    <tr>\n",
       "      <th>0</th>\n",
       "      <td>지리산</td>\n",
       "      <td>483.022</td>\n",
       "      <td>3308833</td>\n",
       "    </tr>\n",
       "    <tr>\n",
       "      <th>1</th>\n",
       "      <td>경주</td>\n",
       "      <td>136.550</td>\n",
       "      <td>2887634</td>\n",
       "    </tr>\n",
       "    <tr>\n",
       "      <th>2</th>\n",
       "      <td>계룡산</td>\n",
       "      <td>65.335</td>\n",
       "      <td>1817602</td>\n",
       "    </tr>\n",
       "    <tr>\n",
       "      <th>3</th>\n",
       "      <td>한려해상</td>\n",
       "      <td>127.188</td>\n",
       "      <td>6439653</td>\n",
       "    </tr>\n",
       "    <tr>\n",
       "      <th>4</th>\n",
       "      <td>설악산</td>\n",
       "      <td>398.237</td>\n",
       "      <td>3241484</td>\n",
       "    </tr>\n",
       "  </tbody>\n",
       "</table>\n",
       "</div>"
      ],
      "text/plain": [
       "    공원명     육지면적     탐방객수\n",
       "0   지리산  483.022  3308833\n",
       "1    경주  136.550  2887634\n",
       "2   계룡산   65.335  1817602\n",
       "3  한려해상  127.188  6439653\n",
       "4   설악산  398.237  3241484"
      ]
     },
     "execution_count": 21,
     "metadata": {},
     "output_type": "execute_result"
    }
   ],
   "source": [
    "#  국립공원 기본통계 (출처: KOSIS 국가통계포털)\n",
    "df = pd.read_csv('NLPRK_STA.csv', encoding='cp949')\n",
    "df.head()"
   ]
  },
  {
   "cell_type": "code",
   "execution_count": 22,
   "id": "36943bbb",
   "metadata": {},
   "outputs": [
    {
     "data": {
      "text/plain": [
       "[('KoPubDotum Bold',\n",
       "  'C:\\\\Users\\\\JeonginKoo-Stu6\\\\AppData\\\\Local\\\\Microsoft\\\\Windows\\\\Fonts\\\\KoPubDotumBold.ttf'),\n",
       " ('KoPubDotum Medium',\n",
       "  'C:\\\\Users\\\\JeonginKoo-Stu6\\\\AppData\\\\Local\\\\Microsoft\\\\Windows\\\\Fonts\\\\KoPubDotumMedium.ttf'),\n",
       " ('KoPubDotum Light',\n",
       "  'C:\\\\Users\\\\JeonginKoo-Stu6\\\\AppData\\\\Local\\\\Microsoft\\\\Windows\\\\Fonts\\\\KoPubDotumLight.ttf')]"
      ]
     },
     "execution_count": 22,
     "metadata": {},
     "output_type": "execute_result"
    }
   ],
   "source": [
    "fm._rebuild()\n",
    "[(f.name, f.fname) for f in fm.fontManager.ttflist if 'KoPub' in f.name] # 폰트 검색Z"
   ]
  },
  {
   "cell_type": "code",
   "execution_count": 30,
   "id": "9fd19c8f",
   "metadata": {},
   "outputs": [],
   "source": [
    "sns.set(style='whitegrid', font='KoPubDotum Bold', font_scale=1.2) # Seaborn 설정"
   ]
  },
  {
   "cell_type": "code",
   "execution_count": 27,
   "id": "6b3df7e4",
   "metadata": {},
   "outputs": [],
   "source": [
    "X = df.iloc[:, [1, 2]]\n",
    "m = X.shape[0] # 집합 개수\n",
    "n = X.shape[1] # 특징 개수"
   ]
  },
  {
   "cell_type": "code",
   "execution_count": 41,
   "id": "854b644b",
   "metadata": {
    "scrolled": false
   },
   "outputs": [
    {
     "data": {
      "image/png": "[encoded data removed]",
      "text/plain": [
       "<Figure size 432x288 with 1 Axes>"
      ]
     },
     "metadata": {},
     "output_type": "display_data"
    }
   ],
   "source": [
    "plt.scatter(X.iloc[:,0],X.iloc[:,1],c='black',label='국립공원')\n",
    "plt.xlabel('육지면적 (㎢)')\n",
    "plt.ylabel('탐방객수 (명)')\n",
    "plt.legend()\n",
    "plt.title('국립공원')\n",
    "plt.show()"
   ]
  },
  {
   "cell_type": "code",
   "execution_count": 146,
   "id": "00f6f59c",
   "metadata": {},
   "outputs": [
    {
     "data": {
      "text/plain": [
       "array([], shape=(2, 0), dtype=float64)"
      ]
     },
     "execution_count": 146,
     "metadata": {},
     "output_type": "execute_result"
    }
   ],
   "source": [
    "K = 3 # 클러스터 개수\n",
    "n_iter = 100 # 반복횟수\n",
    "\n",
    "\n",
    "Centroids = np.array([]).reshape(n, 0) # 클러스터 중심 초기화\n",
    "Centroids"
   ]
  },
  {
   "cell_type": "code",
   "execution_count": 147,
   "id": "93ee3429",
   "metadata": {},
   "outputs": [
    {
     "data": {
      "text/plain": [
       "array([[2.422300e+01, 2.875710e+02, 1.271880e+02],\n",
       "       [1.049974e+06, 1.014793e+06, 6.439653e+06]])"
      ]
     },
     "execution_count": 147,
     "metadata": {},
     "output_type": "execute_result"
    }
   ],
   "source": [
    "for i in range(K):\n",
    "    rand = rd.randint(0, m-1) # 0과 21 사이 난수 생성\n",
    "    Centroids = np.c_[Centroids, X.loc[rand]]\n",
    "    \n",
    "Centroids # 초기값 생성 완료. K = 3"
   ]
  },
  {
   "cell_type": "code",
   "execution_count": 148,
   "id": "d30bd383",
   "metadata": {},
   "outputs": [],
   "source": [
    "Output = {} # 출력값 초기화"
   ]
  },
  {
   "cell_type": "code",
   "execution_count": 149,
   "id": "9d278936",
   "metadata": {},
   "outputs": [
    {
     "data": {
      "text/plain": [
       "array([], shape=(22, 0), dtype=float64)"
      ]
     },
     "execution_count": 149,
     "metadata": {},
     "output_type": "execute_result"
    }
   ],
   "source": [
    "EuclidianDistance = np.array([]).reshape(m, 0)\n",
    "EuclidianDistance"
   ]
  },
  {
   "cell_type": "code",
   "execution_count": 150,
   "id": "b381342e",
   "metadata": {},
   "outputs": [
    {
     "data": {
      "text/plain": [
       "array([2.422300e+01, 1.049974e+06])"
      ]
     },
     "execution_count": 150,
     "metadata": {},
     "output_type": "execute_result"
    }
   ],
   "source": [
    "# 유클리드 거리 계산\n",
    "Centroids[:, 0] # shape = (2,)"
   ]
  },
  {
   "cell_type": "code",
   "execution_count": 151,
   "id": "e470bd60",
   "metadata": {},
   "outputs": [
    {
     "data": {
      "text/plain": [
       "array([[2.422300e+01, 2.875710e+02, 1.271880e+02],\n",
       "       [1.049974e+06, 1.014793e+06, 6.439653e+06]])"
      ]
     },
     "execution_count": 151,
     "metadata": {},
     "output_type": "execute_result"
    }
   ],
   "source": [
    "Centroids[:, :]"
   ]
  },
  {
   "cell_type": "code",
   "execution_count": 152,
   "id": "6467c797",
   "metadata": {},
   "outputs": [
    {
     "data": {
      "text/plain": [
       "0     5.102444e+12\n",
       "1     3.376994e+12\n",
       "2     5.892527e+11\n",
       "3     2.904864e+13\n",
       "4     4.802716e+12\n",
       "5     3.797828e+10\n",
       "6     2.501365e+10\n",
       "7     8.075574e+11\n",
       "8     1.421841e+11\n",
       "9     2.037006e+11\n",
       "10    1.219023e+11\n",
       "11    1.104370e+10\n",
       "12    0.000000e+00\n",
       "13    8.794464e+11\n",
       "14    1.996780e+13\n",
       "15    9.709832e+10\n",
       "16    1.237772e+09\n",
       "17    2.073954e+10\n",
       "18    2.799627e+11\n",
       "19    4.109374e+11\n",
       "20    4.384019e+12\n",
       "21    1.368305e+11\n",
       "dtype: float64"
      ]
     },
     "execution_count": 152,
     "metadata": {},
     "output_type": "execute_result"
    }
   ],
   "source": [
    "# 유클리드 거리 계산\n",
    "\n",
    "tempDist = np.sum((X-Centroids[:, 0]) ** 2, axis= 1)\n",
    "tempDist "
   ]
  },
  {
   "cell_type": "code",
   "execution_count": 153,
   "id": "d7144ced",
   "metadata": {},
   "outputs": [
    {
     "data": {
      "text/plain": [
       "(22, 1)"
      ]
     },
     "execution_count": 153,
     "metadata": {},
     "output_type": "execute_result"
    }
   ],
   "source": [
    "np.c_[EuclidianDistance, tempDist].shape # K = 1 추가되었으므로"
   ]
  },
  {
   "cell_type": "code",
   "execution_count": 154,
   "id": "4d8d930f",
   "metadata": {},
   "outputs": [
    {
     "name": "stdout",
     "output_type": "stream",
     "text": [
      "0\n",
      "1\n",
      "2\n"
     ]
    },
    {
     "data": {
      "text/plain": [
       "array([[5.10244419e+12, 5.26261956e+12, 9.80203400e+12],\n",
       "       [3.37699429e+12, 3.50753343e+12, 1.26168390e+13],\n",
       "       [5.89252748e+11, 6.44502340e+11, 2.13633555e+13],\n",
       "       [2.90486397e+13, 2.94291060e+13, 0.00000000e+00],\n",
       "       [4.80271622e+12, 4.95815282e+12, 1.02282850e+13],\n",
       "       [3.79782772e+10, 5.29280639e+10, 2.69859367e+13],\n",
       "       [2.50136533e+10, 1.51231146e+10, 3.07784843e+13],\n",
       "       [8.07557447e+11, 8.72025438e+11, 2.01694133e+13],\n",
       "       [1.42184050e+11, 1.16890184e+11, 3.32554286e+13],\n",
       "       [2.03700616e+11, 2.36694903e+11, 2.43872711e+13],\n",
       "       [1.21902322e+11, 1.47706476e+11, 2.54069830e+13],\n",
       "       [1.10437045e+10, 1.96757060e+10, 2.79268915e+13],\n",
       "       [0.00000000e+00, 1.23777211e+09, 2.90486397e+13],\n",
       "       [8.79446404e+11, 9.46668675e+11, 1.98193335e+13],\n",
       "       [1.99677961e+13, 2.02834488e+13, 8.48508114e+11],\n",
       "       [9.70983222e+10, 7.64107931e+10, 3.25046507e+13],\n",
       "       [1.23777211e+09, 0.00000000e+00, 2.94291060e+13],\n",
       "       [2.07395448e+10, 3.21101324e+10, 2.75170223e+13],\n",
       "       [2.79962696e+11, 3.18429998e+11, 2.36250824e+13],\n",
       "       [4.10937411e+11, 3.67070028e+11, 3.63696199e+13],\n",
       "       [4.38401938e+12, 4.53258143e+12, 1.08627854e+13],\n",
       "       [1.36830451e+11, 1.12040873e+11, 3.31728194e+13]])"
      ]
     },
     "execution_count": 154,
     "metadata": {},
     "output_type": "execute_result"
    }
   ],
   "source": [
    "# K 만큼 반복\n",
    "\n",
    "for k in range(K):\n",
    "    print(k)\n",
    "    tempDist = np.sum((X-Centroids[:, k]) ** 2, axis= 1)\n",
    "    EuclidianDistance = np.c_[EuclidianDistance, tempDist]\n",
    "EuclidianDistance"
   ]
  },
  {
   "cell_type": "code",
   "execution_count": 155,
   "id": "9e77054b",
   "metadata": {},
   "outputs": [
    {
     "data": {
      "text/plain": [
       "(22, 3)"
      ]
     },
     "execution_count": 155,
     "metadata": {},
     "output_type": "execute_result"
    }
   ],
   "source": [
    "EuclidianDistance.shape # k = 3 까지 각 x와 Centroids의 거리를 구한 것."
   ]
  },
  {
   "cell_type": "code",
   "execution_count": 157,
   "id": "c5cfeb76",
   "metadata": {},
   "outputs": [
    {
     "data": {
      "text/plain": [
       "array([0, 0, 0, 2, 0, 0, 1, 0, 1, 0, 0, 0, 0, 0, 2, 1, 1, 0, 0, 1, 0, 1],\n",
       "      dtype=int64)"
      ]
     },
     "execution_count": 157,
     "metadata": {},
     "output_type": "execute_result"
    }
   ],
   "source": [
    "# 이제 색인을 해야함.\n",
    "\n",
    "np.argmin(EuclidianDistance, axis = 1)"
   ]
  },
  {
   "cell_type": "code",
   "execution_count": 159,
   "id": "f491e1c4",
   "metadata": {},
   "outputs": [
    {
     "data": {
      "text/plain": [
       "array([0, 0, 0, 2, 0, 0, 1, 0, 1, 0, 0, 0, 0, 0, 2, 1, 1, 0, 0, 1, 0, 1],\n",
       "      dtype=int64)"
      ]
     },
     "execution_count": 159,
     "metadata": {},
     "output_type": "execute_result"
    }
   ],
   "source": [
    "# K 클러스터 저장\n",
    "\n",
    "C = np.argmin(EuclidianDistance, axis = 1)\n",
    "C # shape(22, )"
   ]
  },
  {
   "cell_type": "code",
   "execution_count": 176,
   "id": "7ef74d68",
   "metadata": {},
   "outputs": [],
   "source": [
    "Y = {} # 출력값 임시 딕셔너리"
   ]
  },
  {
   "cell_type": "code",
   "execution_count": 177,
   "id": "73db0270",
   "metadata": {},
   "outputs": [
    {
     "data": {
      "text/plain": [
       "{1: array([], shape=(2, 0), dtype=float64),\n",
       " 2: array([], shape=(2, 0), dtype=float64),\n",
       " 3: array([], shape=(2, 0), dtype=float64)}"
      ]
     },
     "execution_count": 177,
     "metadata": {},
     "output_type": "execute_result"
    }
   ],
   "source": [
    "for k in range(K):\n",
    "    Y[k+1] = np.array([]).reshape(2, 0) # 특징 개수\n",
    "Y"
   ]
  },
  {
   "cell_type": "code",
   "execution_count": 178,
   "id": "c315c6cf",
   "metadata": {},
   "outputs": [
    {
     "data": {
      "text/plain": [
       "(2,)"
      ]
     },
     "execution_count": 178,
     "metadata": {},
     "output_type": "execute_result"
    }
   ],
   "source": [
    "X.iloc[0].shape"
   ]
  },
  {
   "cell_type": "code",
   "execution_count": 174,
   "id": "56215b1d",
   "metadata": {},
   "outputs": [
    {
     "data": {
      "text/plain": [
       "array([[4.830220e+02, 1.365500e+02],\n",
       "       [3.308833e+06, 2.887634e+06]])"
      ]
     },
     "execution_count": 174,
     "metadata": {},
     "output_type": "execute_result"
    }
   ],
   "source": [
    "Y[C[1]+ 1] = np.c_[Y[C[1] + 1], X.loc[1]] # C[1] 키 값에 대한 재귀적 갱신\n",
    "Y[C[1]+ 1]"
   ]
  },
  {
   "cell_type": "code",
   "execution_count": 175,
   "id": "16d51851",
   "metadata": {},
   "outputs": [
    {
     "data": {
      "text/plain": [
       "{1: array([[4.830220e+02, 1.365500e+02],\n",
       "        [3.308833e+06, 2.887634e+06]]),\n",
       " 2: array([], shape=(2, 0), dtype=float64),\n",
       " 3: array([], shape=(2, 0), dtype=float64)}"
      ]
     },
     "execution_count": 175,
     "metadata": {},
     "output_type": "execute_result"
    }
   ],
   "source": [
    "Y"
   ]
  },
  {
   "cell_type": "code",
   "execution_count": 182,
   "id": "6be247ac",
   "metadata": {},
   "outputs": [
    {
     "data": {
      "text/plain": [
       "{1: array([[4.830220e+02, 1.365500e+02, 6.533500e+01, 3.982370e+02,\n",
       "         2.747660e+02, 8.070800e+01, 2.294300e+02, 3.263480e+02,\n",
       "         1.055950e+02, 2.422300e+01, 2.910230e+02, 3.220110e+02,\n",
       "         1.367070e+02, 7.542500e+01],\n",
       "        [3.308833e+06, 2.887634e+06, 1.817602e+06, 3.241484e+06,\n",
       "         1.244854e+06, 1.948616e+06, 1.501306e+06, 1.399119e+06,\n",
       "         1.155063e+06, 1.049974e+06, 1.987762e+06, 1.193986e+06,\n",
       "         1.579089e+06, 3.143779e+06]]),\n",
       " 2: array([[1.533320e+02, 7.625600e+01, 1.756680e+02, 2.875710e+02,\n",
       "         5.622000e+01, 7.005200e+01],\n",
       "        [8.918170e+05, 6.729010e+05, 7.383680e+05, 1.014793e+06,\n",
       "         4.089300e+05, 6.800680e+05]]),\n",
       " 3: array([[1.271880e+02, 7.692200e+01],\n",
       "        [6.439653e+06, 5.518508e+06]])}"
      ]
     },
     "execution_count": 182,
     "metadata": {},
     "output_type": "execute_result"
    }
   ],
   "source": [
    "for i in range(m): # 클러스터값이 0, 1, 2 값으로 되어 있어서 +1을 하여 1, 2, 3 으로 바꾸어 준 것.\n",
    "    Y[C[i]+1] = np.c_[Y[C[i]+1], X.loc[i]]\n",
    "    \n",
    "Y"
   ]
  },
  {
   "cell_type": "code",
   "execution_count": 191,
   "id": "988199f6",
   "metadata": {},
   "outputs": [
    {
     "data": {
      "text/plain": [
       "array([[4.830220e+02, 1.365500e+02, 6.533500e+01, 3.982370e+02,\n",
       "        2.747660e+02, 8.070800e+01, 2.294300e+02, 3.263480e+02,\n",
       "        1.055950e+02, 2.422300e+01, 2.910230e+02, 3.220110e+02,\n",
       "        1.367070e+02, 7.542500e+01],\n",
       "       [3.308833e+06, 2.887634e+06, 1.817602e+06, 3.241484e+06,\n",
       "        1.244854e+06, 1.948616e+06, 1.501306e+06, 1.399119e+06,\n",
       "        1.155063e+06, 1.049974e+06, 1.987762e+06, 1.193986e+06,\n",
       "        1.579089e+06, 3.143779e+06]])"
      ]
     },
     "execution_count": 191,
     "metadata": {},
     "output_type": "execute_result"
    }
   ],
   "source": [
    "Y[1] # 클러스터 1에 들어가 있는 좌푯값들."
   ]
  },
  {
   "cell_type": "code",
   "execution_count": 193,
   "id": "1e2fc2ae",
   "metadata": {},
   "outputs": [
    {
     "data": {
      "text/plain": [
       "array([[4.830220e+02, 3.308833e+06],\n",
       "       [1.365500e+02, 2.887634e+06],\n",
       "       [6.533500e+01, 1.817602e+06],\n",
       "       [3.982370e+02, 3.241484e+06],\n",
       "       [2.747660e+02, 1.244854e+06],\n",
       "       [8.070800e+01, 1.948616e+06],\n",
       "       [2.294300e+02, 1.501306e+06],\n",
       "       [3.263480e+02, 1.399119e+06],\n",
       "       [1.055950e+02, 1.155063e+06],\n",
       "       [2.422300e+01, 1.049974e+06],\n",
       "       [2.910230e+02, 1.987762e+06],\n",
       "       [3.220110e+02, 1.193986e+06],\n",
       "       [1.367070e+02, 1.579089e+06],\n",
       "       [7.542500e+01, 3.143779e+06]])"
      ]
     },
     "execution_count": 193,
     "metadata": {},
     "output_type": "execute_result"
    }
   ],
   "source": [
    "Y[1].T # 계산의 용이함을 위해 전치행렬 변환"
   ]
  },
  {
   "cell_type": "code",
   "execution_count": 194,
   "id": "fc3b30f1",
   "metadata": {},
   "outputs": [
    {
     "data": {
      "text/plain": [
       "{1: array([[4.830220e+02, 3.308833e+06],\n",
       "        [1.365500e+02, 2.887634e+06],\n",
       "        [6.533500e+01, 1.817602e+06],\n",
       "        [3.982370e+02, 3.241484e+06],\n",
       "        [2.747660e+02, 1.244854e+06],\n",
       "        [8.070800e+01, 1.948616e+06],\n",
       "        [2.294300e+02, 1.501306e+06],\n",
       "        [3.263480e+02, 1.399119e+06],\n",
       "        [1.055950e+02, 1.155063e+06],\n",
       "        [2.422300e+01, 1.049974e+06],\n",
       "        [2.910230e+02, 1.987762e+06],\n",
       "        [3.220110e+02, 1.193986e+06],\n",
       "        [1.367070e+02, 1.579089e+06],\n",
       "        [7.542500e+01, 3.143779e+06]]),\n",
       " 2: array([[1.533320e+02, 8.918170e+05],\n",
       "        [7.625600e+01, 6.729010e+05],\n",
       "        [1.756680e+02, 7.383680e+05],\n",
       "        [2.875710e+02, 1.014793e+06],\n",
       "        [5.622000e+01, 4.089300e+05],\n",
       "        [7.005200e+01, 6.800680e+05]]),\n",
       " 3: array([[1.271880e+02, 6.439653e+06],\n",
       "        [7.692200e+01, 5.518508e+06]])}"
      ]
     },
     "execution_count": 194,
     "metadata": {},
     "output_type": "execute_result"
    }
   ],
   "source": [
    "for k in range(K): # 0, 1, 2\n",
    "    Y[k+1] = Y[k+1].T\n",
    "    \n",
    "Y"
   ]
  },
  {
   "cell_type": "code",
   "execution_count": 196,
   "id": "87e1c7c9",
   "metadata": {},
   "outputs": [
    {
     "data": {
      "text/plain": [
       "array([[2.10670000e+02, 1.36516500e+02, 1.02055000e+02],\n",
       "       [1.96136436e+06, 7.34479500e+05, 5.97908050e+06]])"
      ]
     },
     "execution_count": 196,
     "metadata": {},
     "output_type": "execute_result"
    }
   ],
   "source": [
    "# 여기서 Centroids의 중점을 업데이트 함(새로 구한 좌푯값들의 평균)\n",
    "\n",
    "for k in range(K):\n",
    "    Centroids[:, k] = np.mean(Y[k+1], axis = 0)\n",
    "Centroids # 좌푯값이 업데이트 됨."
   ]
  },
  {
   "cell_type": "code",
   "execution_count": 198,
   "id": "c9326fb9",
   "metadata": {},
   "outputs": [
    {
     "data": {
      "image/png": "[encoded data removed]",
      "text/plain": [
       "<Figure size 432x288 with 1 Axes>"
      ]
     },
     "metadata": {},
     "output_type": "display_data"
    }
   ],
   "source": [
    "# K-평균 클러스터링 결과 가시화\n",
    "color=['red','blue','green']\n",
    "labels=['cluster1','cluster2','cluster3']\n",
    "for k in range(K):\n",
    "    plt.scatter(Y[k+1][:,0],Y[k+1][:,1],c=color[k],label=labels[k])\n",
    "plt.scatter(Centroids[0,:],Centroids[1,:],s=300,c='yellow',label='Centroids')\n",
    "plt.xlabel('육지면적 (㎢)')\n",
    "plt.ylabel('탐방객수 (명)')\n",
    "plt.legend()\n",
    "plt.show()"
   ]
  },
  {
   "cell_type": "markdown",
   "id": "b39f9181",
   "metadata": {},
   "source": [
    "지금까지는 1회 한 것\n",
    "\n",
    "이제 해왔던 것을 반복"
   ]
  },
  {
   "cell_type": "code",
   "execution_count": 206,
   "id": "16395dc2",
   "metadata": {},
   "outputs": [],
   "source": [
    "for i in range(n_iter): # n_iter 반복 횟수\n",
    "    # 유클리드 거리가 최소가 되는 K 클러스터링 할당\n",
    "    EuclidianDistance = np.array([]).reshape(m, 0)\n",
    "    \n",
    "    for k in range(K):\n",
    "        tempDist = np.sum((X-Centroids[:, k]) **2, axis = 1) # shape = (22, )\n",
    "        EuclidianDistance = np.c_[EuclidianDistance, tempDist] # shape = (22, 3)\n",
    "    C = np.argmin(EuclidianDistance, axis = 1) + 1 # shape = (22, )\n",
    "    \n",
    "    # K 클러스터 갱신\n",
    "    \n",
    "    Y = {}\n",
    "    \n",
    "    for k in range(K):\n",
    "        Y[k+1] = np.array([]).reshape(2, 0) # Y 딕셔너리 키, 값 할당\n",
    "    for i in range(m):\n",
    "        Y[C[i]] = np.c_[Y[C[i]], X.loc[i]] # Y 딕셔너리 키(K 클러스터), 값(육지면적, 탐방객수) 할당\n",
    "    for k in range(K):\n",
    "        Y[k+1] = Y[k+1].T # 전치행렬\n",
    "    for k in range(K):\n",
    "        Centroids[:, k] = np.mean(Y[k+1], axis = 0) # K 클러스터 중심 갱신\n",
    "    Output=Y\n",
    "        "
   ]
  },
  {
   "cell_type": "code",
   "execution_count": 207,
   "id": "4a642e69",
   "metadata": {},
   "outputs": [
    {
     "data": {
      "text/plain": [
       "{1: array([[4.830220e+02, 3.308833e+06],\n",
       "        [1.365500e+02, 2.887634e+06],\n",
       "        [3.982370e+02, 3.241484e+06],\n",
       "        [8.070800e+01, 1.948616e+06],\n",
       "        [2.910230e+02, 1.987762e+06],\n",
       "        [7.542500e+01, 3.143779e+06]]),\n",
       " 2: array([[6.533500e+01, 1.817602e+06],\n",
       "        [2.747660e+02, 1.244854e+06],\n",
       "        [1.533320e+02, 8.918170e+05],\n",
       "        [7.625600e+01, 6.729010e+05],\n",
       "        [2.294300e+02, 1.501306e+06],\n",
       "        [3.263480e+02, 1.399119e+06],\n",
       "        [1.055950e+02, 1.155063e+06],\n",
       "        [2.422300e+01, 1.049974e+06],\n",
       "        [1.756680e+02, 7.383680e+05],\n",
       "        [2.875710e+02, 1.014793e+06],\n",
       "        [3.220110e+02, 1.193986e+06],\n",
       "        [1.367070e+02, 1.579089e+06],\n",
       "        [5.622000e+01, 4.089300e+05],\n",
       "        [7.005200e+01, 6.800680e+05]]),\n",
       " 3: array([[1.271880e+02, 6.439653e+06],\n",
       "        [7.692200e+01, 5.518508e+06]])}"
      ]
     },
     "execution_count": 207,
     "metadata": {},
     "output_type": "execute_result"
    }
   ],
   "source": [
    "Output"
   ]
  },
  {
   "cell_type": "code",
   "execution_count": 208,
   "id": "766a0748",
   "metadata": {},
   "outputs": [
    {
     "data": {
      "image/png": "[encoded data removed]",
      "text/plain": [
       "<Figure size 432x288 with 1 Axes>"
      ]
     },
     "metadata": {},
     "output_type": "display_data"
    }
   ],
   "source": [
    "# K-평균 클러스터링 결과 가시화\n",
    "color=['red','blue','green']\n",
    "labels=['cluster1','cluster2','cluster3']\n",
    "for k in range(K):\n",
    "    plt.scatter(Y[k+1][:,0],Y[k+1][:,1],c=color[k],label=labels[k])\n",
    "plt.scatter(Centroids[0,:],Centroids[1,:],s=300,c='yellow',label='Centroids')\n",
    "plt.xlabel('육지면적 (㎢)')\n",
    "plt.ylabel('탐방객수 (명)')\n",
    "plt.legend()\n",
    "plt.show()"
   ]
  }
 ],
 "metadata": {
  "kernelspec": {
   "display_name": "Python 3",
   "language": "python",
   "name": "python3"
  },
  "language_info": {
   "codemirror_mode": {
    "name": "ipython",
    "version": 3
   },
   "file_extension": ".py",
   "mimetype": "text/x-python",
   "name": "python",
   "nbconvert_exporter": "python",
   "pygments_lexer": "ipython3",
   "version": "3.8.8"
  }
 },
 "nbformat": 4,
 "nbformat_minor": 5
}
